{
 "cells": [
  {
   "cell_type": "code",
   "execution_count": 1,
   "id": "ffeabf02",
   "metadata": {},
   "outputs": [],
   "source": [
    "import pandas as pd\n",
    "import numpy as np\n",
    "import datetime as dt\n",
    "import matplotlib.pyplot as plt \n",
    "\n"
   ]
  },
  {
   "cell_type": "code",
   "execution_count": 2,
   "id": "71590a69",
   "metadata": {},
   "outputs": [
    {
     "name": "stdout",
     "output_type": "stream",
     "text": [
      "(4971, 6)\n",
      "       Date Country      State Location  Pure Gold (24 k)  \\\n",
      "0  1/2/2006   India  Tamilnadu  Chennai             768.0   \n",
      "1  1/3/2006   India  Tamilnadu  Chennai             770.5   \n",
      "2  1/4/2006   India  Tamilnadu  Chennai             784.5   \n",
      "3  1/5/2006   India  Tamilnadu  Chennai             782.5   \n",
      "4  1/6/2006   India  Tamilnadu  Chennai             776.0   \n",
      "\n",
      "   Standard Gold (22 K)  \n",
      "0                 711.0  \n",
      "1                 713.0  \n",
      "2                 726.0  \n",
      "3                 725.0  \n",
      "4                 719.0  \n"
     ]
    }
   ],
   "source": [
    "data=pd.read_csv('gold_rate_history.csv')\n",
    "print(data.shape)\n",
    "print(data.head())"
   ]
  },
  {
   "cell_type": "code",
   "execution_count": 3,
   "id": "73b1e9a3",
   "metadata": {},
   "outputs": [
    {
     "name": "stdout",
     "output_type": "stream",
     "text": [
      "        Date Country      State Location  Pure Gold (24 k)  \\\n",
      "4960  737698   India  Tamilnadu  Chennai            5049.0   \n",
      "4961  737699   India  Tamilnadu  Chennai            5056.0   \n",
      "4962  737700   India  Tamilnadu  Chennai            5112.0   \n",
      "4963  737701   India  Tamilnadu  Chennai            5093.0   \n",
      "4964  737702   India  Tamilnadu  Chennai            5093.0   \n",
      "4965  737703   India  Tamilnadu  Chennai            5062.0   \n",
      "4966  737704   India  Tamilnadu  Chennai            5103.0   \n",
      "4967  737705   India  Tamilnadu  Chennai            5046.0   \n",
      "4968  737706   India  Tamilnadu  Chennai            5051.0   \n",
      "4969  737707   India  Tamilnadu  Chennai            5093.0   \n",
      "\n",
      "      Standard Gold (22 K)  \n",
      "4960                4809.0  \n",
      "4961                4815.0  \n",
      "4962                4869.0  \n",
      "4963                4850.0  \n",
      "4964                4850.0  \n",
      "4965                4821.0  \n",
      "4966                4860.0  \n",
      "4967                4806.0  \n",
      "4968                4810.0  \n",
      "4969                4850.0  \n"
     ]
    }
   ],
   "source": [
    "\n",
    "data[\"Date\"]=pd.to_datetime(data[\"Date\"])\n",
    "original_x=data[\"Date\"]\n",
    "data['Date']=data['Date'].map(dt.datetime.toordinal)\n",
    "x=data[\"Date\"]\n",
    "\n",
    "y=data[\"Pure Gold (24 k)\"]\n",
    "print(data.iloc[4960:4970])"
   ]
  },
  {
   "cell_type": "code",
   "execution_count": 4,
   "id": "321abd8e",
   "metadata": {},
   "outputs": [
    {
     "data": {
      "image/png": "[encoded data removed]",
      "text/plain": [
       "<Figure size 432x288 with 1 Axes>"
      ]
     },
     "metadata": {
      "needs_background": "light"
     },
     "output_type": "display_data"
    }
   ],
   "source": [
    "plt.scatter(original_x,y)\n",
    "plt.show()"
   ]
  },
  {
   "cell_type": "markdown",
   "id": "9aab782b",
   "metadata": {},
   "source": [
    "# calculating mean\n"
   ]
  },
  {
   "cell_type": "code",
   "execution_count": 5,
   "id": "3ecf0221",
   "metadata": {},
   "outputs": [
    {
     "name": "stdout",
     "output_type": "stream",
     "text": [
      "0.5770046927884072 -421643.6450288568\n"
     ]
    }
   ],
   "source": [
    "x_mean=np.mean(x)\n",
    "y_mean=np.mean(y)\n",
    "# print(x_mean,y_mean)\n",
    "\n",
    "num=0\n",
    "dem=0\n",
    "for i in range(len(x)):\n",
    "    num+=(x[i]-x_mean)*(y[i]-y_mean)\n",
    "    dem+=(x[i]-x_mean)**2\n",
    "m=num/dem\n",
    "c=y_mean - m*x_mean\n",
    "print(m,c)\n"
   ]
  },
  {
   "cell_type": "markdown",
   "id": "1a4a4673",
   "metadata": {},
   "source": [
    "# prediction "
   ]
  },
  {
   "cell_type": "code",
   "execution_count": 12,
   "id": "ce226d45",
   "metadata": {},
   "outputs": [
    {
     "name": "stdout",
     "output_type": "stream",
     "text": [
      "2022-04-24 00:00:00 738269\n"
     ]
    },
    {
     "data": {
      "image/png": "[encoded data removed]",
      "text/plain": [
       "<Figure size 432x288 with 1 Axes>"
      ]
     },
     "metadata": {
      "needs_background": "light"
     },
     "output_type": "display_data"
    }
   ],
   "source": [
    "y_pred=m*x+c\n",
    "future_date=\"4/24/2022\"\n",
    "future_date=pd.to_datetime(future_date)\n",
    "modified_date=future_date.toordinal()\n",
    "print(future_date,modified_date)\n",
    "# modified_date=\n",
    "# print(y_pred)\n",
    "plt.scatter(original_x,y)\n",
    "plt.plot([min(original_x),max(original_x)],[min(y_pred),max(y_pred)],color=\"red\")\n",
    "plt.show()\n"
   ]
  },
  {
   "cell_type": "markdown",
   "id": "d3ddd43f",
   "metadata": {},
   "source": [
    "# r^2 score"
   ]
  },
  {
   "cell_type": "code",
   "execution_count": 13,
   "id": "6c863de4",
   "metadata": {},
   "outputs": [
    {
     "name": "stdout",
     "output_type": "stream",
     "text": [
      "0.8344236047123059\n"
     ]
    }
   ],
   "source": [
    "ss_tot=0\n",
    "ss_res=0\n",
    "for i in range(len(x)):\n",
    "    y_pred=c+m*x[i]\n",
    "    ss_tot+=(y[i]-y_mean)**2\n",
    "    ss_res+=(y[i]-y_pred)**2\n",
    "r2=1-(ss_res/ss_tot)\n",
    "print(r2)"
   ]
  },
  {
   "cell_type": "markdown",
   "id": "46c76252",
   "metadata": {},
   "source": [
    "# root mean square error"
   ]
  },
  {
   "cell_type": "code",
   "execution_count": 14,
   "id": "d1f2bd52",
   "metadata": {},
   "outputs": [
    {
     "name": "stdout",
     "output_type": "stream",
     "text": [
      "399.0770873996801\n"
     ]
    }
   ],
   "source": [
    "rmse=0\n",
    "for i in range(len(x)):\n",
    "    y_pred=c+ m*x[i]\n",
    "    rmse+=(y[i]-y_pred)**2\n",
    "rmse=np.sqrt(rmse/len(x))\n",
    "print(rmse)"
   ]
  }
 ],
 "metadata": {
  "kernelspec": {
   "display_name": "Python 3",
   "language": "python",
   "name": "python3"
  },
  "language_info": {
   "codemirror_mode": {
    "name": "ipython",
    "version": 3
   },
   "file_extension": ".py",
   "mimetype": "text/x-python",
   "name": "python",
   "nbconvert_exporter": "python",
   "pygments_lexer": "ipython3",
   "version": "3.8.5"
  }
 },
 "nbformat": 4,
 "nbformat_minor": 5
}
