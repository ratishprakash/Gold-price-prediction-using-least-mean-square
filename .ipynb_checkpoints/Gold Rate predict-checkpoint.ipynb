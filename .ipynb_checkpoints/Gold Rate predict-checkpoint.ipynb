{
 "cells": [
  {
   "cell_type": "code",
   "execution_count": 53,
   "id": "2f0d736e",
   "metadata": {},
   "outputs": [],
   "source": [
    "import pandas as pd\n",
    "import numpy as np\n",
    "import datetime as dt\n",
    "import matplotlib.pyplot as plt \n",
    "\n"
   ]
  },
  {
   "cell_type": "code",
   "execution_count": 54,
   "id": "0b8d99a7",
   "metadata": {},
   "outputs": [
    {
     "name": "stdout",
     "output_type": "stream",
     "text": [
      "(4971, 6)\n",
      "       Date Country      State Location  Pure Gold (24 k)  \\\n",
      "0  1/2/2006   India  Tamilnadu  Chennai             768.0   \n",
      "1  1/3/2006   India  Tamilnadu  Chennai             770.5   \n",
      "2  1/4/2006   India  Tamilnadu  Chennai             784.5   \n",
      "3  1/5/2006   India  Tamilnadu  Chennai             782.5   \n",
      "4  1/6/2006   India  Tamilnadu  Chennai             776.0   \n",
      "\n",
      "   Standard Gold (22 K)  \n",
      "0                 711.0  \n",
      "1                 713.0  \n",
      "2                 726.0  \n",
      "3                 725.0  \n",
      "4                 719.0  \n"
     ]
    }
   ],
   "source": [
    "data=pd.read_csv('gold_rate_history.csv')\n",
    "print(data.shape)\n",
    "print(data.head())"
   ]
  },
  {
   "cell_type": "code",
   "execution_count": 55,
   "id": "c340d651",
   "metadata": {},
   "outputs": [
    {
     "name": "stdout",
     "output_type": "stream",
     "text": [
      "        Date Country      State Location  Pure Gold (24 k)  \\\n",
      "0     732313   India  Tamilnadu  Chennai             768.0   \n",
      "1     732314   India  Tamilnadu  Chennai             770.5   \n",
      "2     732315   India  Tamilnadu  Chennai             784.5   \n",
      "3     732316   India  Tamilnadu  Chennai             782.5   \n",
      "4     732317   India  Tamilnadu  Chennai             776.0   \n",
      "...      ...     ...        ...      ...               ...   \n",
      "4966  737704   India  Tamilnadu  Chennai            5103.0   \n",
      "4967  737705   India  Tamilnadu  Chennai            5046.0   \n",
      "4968  737706   India  Tamilnadu  Chennai            5051.0   \n",
      "4969  737707   India  Tamilnadu  Chennai            5093.0   \n",
      "4970  737708   India  Tamilnadu  Chennai            5124.0   \n",
      "\n",
      "      Standard Gold (22 K)  \n",
      "0                    711.0  \n",
      "1                    713.0  \n",
      "2                    726.0  \n",
      "3                    725.0  \n",
      "4                    719.0  \n",
      "...                    ...  \n",
      "4966                4860.0  \n",
      "4967                4806.0  \n",
      "4968                4810.0  \n",
      "4969                4850.0  \n",
      "4970                4881.0  \n",
      "\n",
      "[4971 rows x 6 columns]\n"
     ]
    }
   ],
   "source": [
    "data[\"Date\"]=pd.to_datetime(data[\"Date\"])\n",
    "data['Date']=data['Date'].map(dt.datetime.toordinal)\n",
    "y=data[\"Pure Gold (24 k)\"]\n",
    "print(data)"
   ]
  },
  {
   "cell_type": "markdown",
   "id": "2cc9e15c",
   "metadata": {},
   "source": [
    "# calculating mean\n"
   ]
  },
  {
   "cell_type": "code",
   "execution_count": null,
   "id": "1b5d5193",
   "metadata": {},
   "outputs": [],
   "source": []
  }
 ],
 "metadata": {
  "kernelspec": {
   "display_name": "Python 3 (ipykernel)",
   "language": "python",
   "name": "python3"
  },
  "language_info": {
   "codemirror_mode": {
    "name": "ipython",
    "version": 3
   },
   "file_extension": ".py",
   "mimetype": "text/x-python",
   "name": "python",
   "nbconvert_exporter": "python",
   "pygments_lexer": "ipython3",
   "version": "3.9.6"
  }
 },
 "nbformat": 4,
 "nbformat_minor": 5
}
